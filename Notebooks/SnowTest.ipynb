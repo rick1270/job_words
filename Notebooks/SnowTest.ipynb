{
 "cells": [
  {
   "cell_type": "code",
   "execution_count": 3,
   "metadata": {},
   "outputs": [],
   "source": [
    "import snowflake.connector\n",
    "import pandas as pd\n",
    "from snowflake.connector.pandas_tools import write_pandas"
   ]
  },
  {
   "cell_type": "code",
   "execution_count": null,
   "metadata": {},
   "outputs": [],
   "source": [
    "df = pd.read_pickle(\"Data_Words/Data/job_words_indeed.pkl\")\n",
    "df = df.astype(str)\n",
    "df"
   ]
  },
  {
   "cell_type": "code",
   "execution_count": 11,
   "metadata": {},
   "outputs": [
    {
     "data": {
      "text/plain": [
       "(True,\n",
       " 1,\n",
       " 281,\n",
       " [('yhavobqtwt/file0.txt', 'LOADED', 281, 281, 1, 0, None, None, None, None)])"
      ]
     },
     "execution_count": 11,
     "metadata": {},
     "output_type": "execute_result"
    }
   ],
   "source": [
    "connection_parameters = {\n",
    "    \"user\": \"Kona\",\n",
    "    \"password\": \"ngFWnMT9cuG6XM6\",\n",
    "    \"account\": \"bepcfpi-gf10139\",\n",
    "    \"role\": \"ACCOUNTADMIN\",\n",
    "    \"warehouse\": \"LOADER\",\n",
    "    \"database\": \"RAW\",\n",
    "    \"schema\": \"DATA_WORD_INTAKE\",\n",
    "}\n",
    "ctx = snowflake.connector.connect(\n",
    "    user=\"Kona\",\n",
    "    password=\"ngFWnMT9cuG6XM6\",\n",
    "    account=\"bepcfpi-gf10139\",\n",
    "    warehouse=\"LOADER\",\n",
    "    database=\"RAW\",\n",
    "    schema=\"DATA_WORD_INTAKE\",\n",
    ")\n",
    "\n",
    "cs = ctx.cursor()\n",
    "table = \"TEST_TAB\"\n",
    "\n",
    "write_pandas(ctx, df, table, auto_create_table=True)"
   ]
  },
  {
   "cell_type": "code",
   "execution_count": 5,
   "metadata": {},
   "outputs": [
    {
     "name": "stdout",
     "output_type": "stream",
     "text": [
      "John F. Kennedy\n"
     ]
    }
   ],
   "source": []
  },
  {
   "cell_type": "code",
   "execution_count": 6,
   "metadata": {},
   "outputs": [
    {
     "name": "stdout",
     "output_type": "stream",
     "text": [
      "dict_keys(['user', 'password', 'account', 'role', 'warehouse', 'database', 'schema'])\n"
     ]
    }
   ],
   "source": [
    "connection_parameters = {\n",
    "    \"user\": \"Kona\",\n",
    "    \"password\": \"ngFWnMT9cuG6XM6\",\n",
    "    \"account\": \"bepcfpi-gf10139\",\n",
    "    \"role\": \"ACCOUNTADMIN\",\n",
    "    \"warehouse\": \"LOADER\",\n",
    "    \"database\": \"RAW\",\n",
    "    \"schema\": \"DATA_WORD_INTAKE\",\n",
    "}\n",
    "\n",
    "\n",
    "def df_to_table(df, table_name, connection_parameters) ->dict:\n",
    "    ctx = snowflake.connector.connect(\n",
    "    user=connection_parameters['user'],\n",
    "    password=connection_parameters['password'],\n",
    "    account=connection_parameters['account'],\n",
    "    warehouse=connection_parameters['warehouse'],\n",
    "    database=connection_parameters['database'],\n",
    "    schema=connection_parameters['schema'],\n",
    "    )\n",
    "    cs = ctx.cursor()\n",
    "    table = table_name\n",
    "    str_df = df.astype(str)\n",
    "    write_pandas(ctx, str_df, table, auto_create_table=True)\n",
    "\n",
    "df_to_table(connection_parameters)\n"
   ]
  }
 ],
 "metadata": {
  "kernelspec": {
   "display_name": ".venv",
   "language": "python",
   "name": "python3"
  },
  "language_info": {
   "codemirror_mode": {
    "name": "ipython",
    "version": 3
   },
   "file_extension": ".py",
   "mimetype": "text/x-python",
   "name": "python",
   "nbconvert_exporter": "python",
   "pygments_lexer": "ipython3",
   "version": "3.11.6"
  }
 },
 "nbformat": 4,
 "nbformat_minor": 2
}
